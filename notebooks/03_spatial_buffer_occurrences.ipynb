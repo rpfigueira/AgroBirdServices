{
 "cells": [
  {
   "cell_type": "markdown",
   "id": "5c9a437d",
   "metadata": {
    "extensions": {
     "jupyter_dashboards": {
      "version": 1,
      "views": {
       "default_view": {
        "col": 0,
        "height": 2,
        "row": 38,
        "width": 12
       }
      }
     }
    }
   },
   "source": [
    "# 03 - Spatial buffer bird occurrences\n",
    "\n",
    "\n",
    "### Description\n",
    "The purpose of this notebook is to combine land/crop cover in areas of bird occurrences, based on a point spatial buffer\n",
    "\n",
    "### Inputs\n",
    "\n",
    "- eBird occurrences produced by Notebook 01: `eBird_sample.csv`\n",
    "\n",
    "### Outputs\n",
    "\n",
    "- eBird data with new columns containing number of pixels and area for each landuse/landcover (including crops)"
   ]
  },
  {
   "cell_type": "markdown",
   "id": "d405d432",
   "metadata": {
    "extensions": {
     "jupyter_dashboards": {
      "version": 1,
      "views": {
       "default_view": {
        "col": 0,
        "height": 2,
        "row": 36,
        "width": 12
       }
      }
     }
    }
   },
   "source": [
    "## 1. Read eBird data (occurrences, taxonomy)\n",
    "- eBird data"
   ]
  },
  {
   "cell_type": "code",
   "execution_count": null,
   "id": "85817dd8",
   "metadata": {
    "extensions": {
     "jupyter_dashboards": {
      "version": 1,
      "views": {
       "default_view": {
        "hidden": true
       }
      }
     }
    }
   },
   "outputs": [],
   "source": [
    "# import modules\n",
    "import pandas as pd\n",
    "import numpy as np\n",
    "from pandas import DataFrame\n",
    "import geopandas as gpd\n",
    "from pyproj import Proj, CRS,transform\n",
    "import matplotlib.pyplot as plt\n",
    "%matplotlib inline"
   ]
  },
  {
   "cell_type": "code",
   "execution_count": null,
   "id": "d4a86689",
   "metadata": {},
   "outputs": [],
   "source": [
    "import warnings\n",
    "warnings.filterwarnings('ignore')"
   ]
  },
  {
   "cell_type": "markdown",
   "id": "0c3996eb",
   "metadata": {},
   "source": [
    "Read the eBird occurrence data:"
   ]
  },
  {
   "cell_type": "code",
   "execution_count": null,
   "id": "96243fdd",
   "metadata": {
    "extensions": {
     "jupyter_dashboards": {
      "version": 1,
      "views": {
       "default_view": {
        "hidden": true
       }
      }
     }
    }
   },
   "outputs": [],
   "source": [
    "# eBird selected occurrence data\n",
    "eBird_sample = pd.read_csv('../process_data/eBird_sample.csv', low_memory=False)\n",
    "eBird_sample[\"OBSERVATION DATE\"] = pd.to_datetime(eBird_sample[\"OBSERVATION DATE\"])\n",
    "eBird_sample.head()"
   ]
  },
  {
   "cell_type": "markdown",
   "id": "cbd59d24",
   "metadata": {},
   "source": [
    "## 2. Map selected records\n",
    "\n",
    "Represent eBird data on the map. Unique point locations are identified by the sampling event identifier."
   ]
  },
  {
   "cell_type": "code",
   "execution_count": null,
   "id": "40ce582f",
   "metadata": {
    "extensions": {
     "jupyter_dashboards": {
      "version": 1,
      "views": {
       "default_view": {
        "hidden": true
       }
      }
     }
    }
   },
   "outputs": [],
   "source": [
    "# create points geopandas from eBird, group by sampling event identifier\n",
    "\n",
    "eb = eBird_sample.groupby(['SAMPLING EVENT IDENTIFIER']).first()\n",
    "\n",
    "crs = CRS('EPSG:4326')\n",
    "points = gpd.GeoDataFrame(\n",
    "    eb, geometry=gpd.points_from_xy(eb['LONGITUDE'], eb['LATITUDE']), crs=crs)\n",
    "\n",
    "points['geometry'].explore()"
   ]
  },
  {
   "cell_type": "code",
   "execution_count": null,
   "id": "2fd25aa1",
   "metadata": {},
   "outputs": [],
   "source": [
    "# do a quick preview of the point table\n",
    "eb"
   ]
  },
  {
   "cell_type": "code",
   "execution_count": null,
   "id": "598a2d03",
   "metadata": {},
   "outputs": [],
   "source": [
    "# convert the coordinate reference system to metric coordinates\n",
    "points = points.to_crs(\"EPSG:5070\")"
   ]
  },
  {
   "cell_type": "markdown",
   "id": "0e8d9b55",
   "metadata": {},
   "source": [
    "We will create buffers for each point location with a 1 km radius distance. The buffer distance was thought to include the average range of movement of the species in the region, in terms of feeding behaviour."
   ]
  },
  {
   "cell_type": "code",
   "execution_count": null,
   "id": "3aa6fb5a",
   "metadata": {},
   "outputs": [],
   "source": [
    "# create a buffer with 1km radius\n",
    "points_buf = points\n",
    "points_buf['geometry'] = points_buf.geometry.buffer(1000)\n",
    "points_buf[\"OBSERVATION DATE\"] = points_buf[\"OBSERVATION DATE\"].astype('string')\n",
    "points_buf.dtypes\n",
    "points_buf.explore()"
   ]
  },
  {
   "cell_type": "markdown",
   "id": "befda88a",
   "metadata": {},
   "source": [
    "## 3. Determine land or crop cover for each point\n",
    "\n",
    "This step will calculate the percentage of land cover for each land use, in the buffer of each bird occurrence point."
   ]
  },
  {
   "cell_type": "code",
   "execution_count": null,
   "id": "e4215460",
   "metadata": {},
   "outputs": [],
   "source": [
    "# import additional modules\n",
    "import rasterio\n",
    "import rasterstats\n",
    "from rasterio.plot import show\n",
    "from rasterstats import zonal_stats\n",
    "\n",
    "# define input crop cover file\n",
    "crop_cover = '../process_data/2022_30m_cdls_clip.tif'\n",
    "src = rasterio.open(crop_cover)"
   ]
  },
  {
   "cell_type": "code",
   "execution_count": null,
   "id": "5b884222",
   "metadata": {},
   "outputs": [],
   "source": [
    "# plot buffers on the area\n",
    "fig, ax = plt.subplots(1,1)\n",
    "show(src, ax = ax)\n",
    "points_buf.plot(ax = ax)"
   ]
  },
  {
   "cell_type": "code",
   "execution_count": null,
   "id": "fc4e4fad",
   "metadata": {},
   "outputs": [],
   "source": [
    "# determine counts of pixels of each crops in buffer areas\n",
    "stats = zonal_stats(points_buf, crop_cover, categorical=True, geom_type='point')"
   ]
  },
  {
   "cell_type": "code",
   "execution_count": null,
   "id": "1e4d9745",
   "metadata": {},
   "outputs": [],
   "source": [
    "# quick preview to check if everything is in place\n",
    "stats[0]"
   ]
  },
  {
   "cell_type": "code",
   "execution_count": null,
   "id": "515c8692",
   "metadata": {},
   "outputs": [],
   "source": [
    "# add the stats for each buffer to the table \n",
    "\n",
    "points_buf['stats_cover'] = stats"
   ]
  },
  {
   "cell_type": "code",
   "execution_count": null,
   "id": "bcd15a8c",
   "metadata": {},
   "outputs": [],
   "source": [
    "# function to calculate areas in hectares \n",
    "\n",
    "def sum_dict(d):\n",
    "    return sum(d.values())*900/10**4"
   ]
  },
  {
   "cell_type": "code",
   "execution_count": null,
   "id": "f49fd3c7",
   "metadata": {},
   "outputs": [],
   "source": [
    "# add a column with the total area of the buffer in hectares, based on the amount of pixels\n",
    "points_buf['area_buff'] = points_buf['stats_cover'].apply(sum_dict)"
   ]
  },
  {
   "cell_type": "code",
   "execution_count": null,
   "id": "fa20418e",
   "metadata": {},
   "outputs": [],
   "source": [
    "# save to csv\n",
    "out_file = '../process_data/points_buf_stats.csv'\n",
    "df1 = pd.DataFrame(points_buf[['LOCALITY', 'LOCALITY ID','geometry','stats_cover', 'area_buff']])\n",
    "df1.to_csv(out_file) "
   ]
  },
  {
   "cell_type": "code",
   "execution_count": null,
   "id": "9e1a6794",
   "metadata": {},
   "outputs": [],
   "source": [
    "# do a wuick preview of the pint table\n",
    "df1"
   ]
  },
  {
   "cell_type": "markdown",
   "id": "0f44c5ea",
   "metadata": {},
   "source": [
    "## 4. Combine crop cover stats with eBird data\n",
    "\n",
    "Combine the values calculated for each point in the initial bird occurrence table.  "
   ]
  },
  {
   "cell_type": "code",
   "execution_count": null,
   "id": "e71587ca",
   "metadata": {},
   "outputs": [],
   "source": [
    "# merge bird occurrences with crop cover stats at the buffer level\n",
    "bird_data = pd.merge(eBird_sample, df1, left_on=['SAMPLING EVENT IDENTIFIER'], right_on=['SAMPLING EVENT IDENTIFIER'])\n"
   ]
  },
  {
   "cell_type": "code",
   "execution_count": null,
   "id": "95b38dc8",
   "metadata": {},
   "outputs": [],
   "source": [
    "bird_data"
   ]
  },
  {
   "cell_type": "code",
   "execution_count": null,
   "id": "47ffabf3",
   "metadata": {},
   "outputs": [],
   "source": [
    "# save merged data to csv\n",
    "out_file = '../process_data/eBird_sel.csv'\n",
    "df1 = pd.DataFrame(bird_data)\n",
    "df1.to_csv(out_file)"
   ]
  },
  {
   "cell_type": "code",
   "execution_count": null,
   "id": "f2465765",
   "metadata": {},
   "outputs": [],
   "source": []
  }
 ],
 "metadata": {
  "extensions": {
   "jupyter_dashboards": {
    "activeView": "default_view",
    "version": 1,
    "views": {
     "default_view": {
      "cellMargin": 10,
      "defaultCellHeight": 40,
      "maxColumns": 12,
      "name": "active_view",
      "type": "grid"
     }
    }
   }
  },
  "kernelspec": {
   "display_name": "Python 3 (ipykernel)",
   "language": "python",
   "name": "python3"
  },
  "language_info": {
   "codemirror_mode": {
    "name": "ipython",
    "version": 3
   },
   "file_extension": ".py",
   "mimetype": "text/x-python",
   "name": "python",
   "nbconvert_exporter": "python",
   "pygments_lexer": "ipython3",
   "version": "3.11.4"
  }
 },
 "nbformat": 4,
 "nbformat_minor": 5
}
