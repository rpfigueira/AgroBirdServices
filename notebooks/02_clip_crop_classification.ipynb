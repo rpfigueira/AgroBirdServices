{
 "cells": [
  {
   "cell_type": "markdown",
   "id": "27f6339b",
   "metadata": {},
   "source": [
    "# 2. Clip crop cover area\n",
    "\n",
    "#### Data sources:\n",
    "- USA Land Use Land Cover (LULC) data with crop classification: CroplandCROS (https://croplandcros.scinet.usda.gov/, https://www.nass.usda.gov/Research_and_Science/Cropland/Release/index.php)\n",
    "    - local data copy: `2022_30m_cdls.tif`\n",
    "    - citation: USDA National Agricultural Statistics Service Cropland Data Layer. {YEAR}. Published crop-specific data layer [Online]. Available at https://nassgeodata.gmu.edu/CropScape/ (accessed {DATE}; verified {DATE}). USDA-NASS, Washington, DC.\n",
    "    \n",
    "    \n",
    "#### Procedure:\n",
    "\n",
    "- Use the bounding box of the area (not cliped by urban areas) to clip the crop data raster layer\n",
    "- Save cliped raster layer for further processingp  "
   ]
  },
  {
   "cell_type": "code",
   "execution_count": 1,
   "id": "0cef1443",
   "metadata": {},
   "outputs": [],
   "source": [
    "# import modules\n",
    "import numpy as np\n",
    "import pandas as pd\n",
    "import geopandas as gpd\n",
    "import rasterio\n",
    "import rasterio.mask\n",
    "import matplotlib.pyplot as plt\n",
    "%matplotlib inline"
   ]
  },
  {
   "cell_type": "code",
   "execution_count": 2,
   "id": "8ae71040",
   "metadata": {},
   "outputs": [],
   "source": [
    "# define input raster file\n",
    "raster_file = '../external_data/CroplandCROS/2022_30m_cdls/2022_30m_cdls.tif'\n",
    "\n",
    "# define output clipped file\n",
    "out_clip = '../process_data/2022_30m_cdls_clip.tif'"
   ]
  },
  {
   "cell_type": "markdown",
   "id": "0c61fb6f",
   "metadata": {},
   "source": [
    "Prepare the spatial polygon to use as a mask to clip the raster crop data. We will combine both valley polygons."
   ]
  },
  {
   "cell_type": "code",
   "execution_count": 3,
   "id": "a826afd5",
   "metadata": {},
   "outputs": [
    {
     "name": "stdout",
     "output_type": "stream",
     "text": [
      "Original CRS: epsg:4326\n",
      "Project CRS: EPSG:5070\n"
     ]
    }
   ],
   "source": [
    "# prepare mask_file, from polygons\n",
    "\n",
    "# read polygon from file\n",
    "gpkg = '../external_data/gis_california_valley/CA_agricultural_valley.gpkg'\n",
    "polygon = gpd.read_file(gpkg, layer='convex_salinas__bounding_geometry')\n",
    "polygon1 = gpd.read_file(gpkg, layer='convex_valley__bounding_geometry')\n",
    "california = pd.concat([polygon, polygon1])\n",
    "\n",
    "# confirm CRS of mask layer \n",
    "print('Original CRS: {}'.format(california.crs))\n",
    "\n",
    "# project in the CRS of the raster dataset\n",
    "mask_file = california.to_crs(\"EPSG:5070\")\n",
    "\n",
    "print('Project CRS: {}'.format(mask_file.crs))"
   ]
  },
  {
   "cell_type": "code",
   "execution_count": 4,
   "id": "134e5a73",
   "metadata": {},
   "outputs": [
    {
     "data": {
      "text/html": [
       "<div style=\"width:100%;\"><div style=\"position:relative;width:100%;height:0;padding-bottom:60%;\"><span style=\"color:#565656\">Make this Notebook Trusted to load map: File -> Trust Notebook</span><iframe srcdoc=\"&lt;!DOCTYPE html&gt;\n",
       "&lt;html&gt;\n",
       "&lt;head&gt;\n",
       "    \n",
       "    &lt;meta http-equiv=&quot;content-type&quot; content=&quot;text/html; charset=UTF-8&quot; /&gt;\n",
       "    \n",
       "        &lt;script&gt;\n",
       "            L_NO_TOUCH = false;\n",
       "            L_DISABLE_3D = false;\n",
       "        &lt;/script&gt;\n",
       "    \n",
       "    &lt;style&gt;html, body {width: 100%;height: 100%;margin: 0;padding: 0;}&lt;/style&gt;\n",
       "    &lt;style&gt;#map {position:absolute;top:0;bottom:0;right:0;left:0;}&lt;/style&gt;\n",
       "    &lt;script src=&quot;https://cdn.jsdelivr.net/npm/leaflet@1.9.3/dist/leaflet.js&quot;&gt;&lt;/script&gt;\n",
       "    &lt;script src=&quot;https://code.jquery.com/jquery-1.12.4.min.js&quot;&gt;&lt;/script&gt;\n",
       "    &lt;script src=&quot;https://cdn.jsdelivr.net/npm/bootstrap@5.2.2/dist/js/bootstrap.bundle.min.js&quot;&gt;&lt;/script&gt;\n",
       "    &lt;script src=&quot;https://cdnjs.cloudflare.com/ajax/libs/Leaflet.awesome-markers/2.0.2/leaflet.awesome-markers.js&quot;&gt;&lt;/script&gt;\n",
       "    &lt;link rel=&quot;stylesheet&quot; href=&quot;https://cdn.jsdelivr.net/npm/leaflet@1.9.3/dist/leaflet.css&quot;/&gt;\n",
       "    &lt;link rel=&quot;stylesheet&quot; href=&quot;https://cdn.jsdelivr.net/npm/bootstrap@5.2.2/dist/css/bootstrap.min.css&quot;/&gt;\n",
       "    &lt;link rel=&quot;stylesheet&quot; href=&quot;https://netdna.bootstrapcdn.com/bootstrap/3.0.0/css/bootstrap.min.css&quot;/&gt;\n",
       "    &lt;link rel=&quot;stylesheet&quot; href=&quot;https://cdn.jsdelivr.net/npm/@fortawesome/fontawesome-free@6.2.0/css/all.min.css&quot;/&gt;\n",
       "    &lt;link rel=&quot;stylesheet&quot; href=&quot;https://cdnjs.cloudflare.com/ajax/libs/Leaflet.awesome-markers/2.0.2/leaflet.awesome-markers.css&quot;/&gt;\n",
       "    &lt;link rel=&quot;stylesheet&quot; href=&quot;https://cdn.jsdelivr.net/gh/python-visualization/folium/folium/templates/leaflet.awesome.rotate.min.css&quot;/&gt;\n",
       "    \n",
       "            &lt;meta name=&quot;viewport&quot; content=&quot;width=device-width,\n",
       "                initial-scale=1.0, maximum-scale=1.0, user-scalable=no&quot; /&gt;\n",
       "            &lt;style&gt;\n",
       "                #map_b9432efa92d035cf3b9811bf1f1ac732 {\n",
       "                    position: relative;\n",
       "                    width: 100.0%;\n",
       "                    height: 100.0%;\n",
       "                    left: 0.0%;\n",
       "                    top: 0.0%;\n",
       "                }\n",
       "                .leaflet-container { font-size: 1rem; }\n",
       "            &lt;/style&gt;\n",
       "        \n",
       "    \n",
       "                    &lt;style&gt;\n",
       "                        .foliumtooltip {\n",
       "                            \n",
       "                        }\n",
       "                       .foliumtooltip table{\n",
       "                            margin: auto;\n",
       "                        }\n",
       "                        .foliumtooltip tr{\n",
       "                            text-align: left;\n",
       "                        }\n",
       "                        .foliumtooltip th{\n",
       "                            padding: 2px; padding-right: 8px;\n",
       "                        }\n",
       "                    &lt;/style&gt;\n",
       "            \n",
       "&lt;/head&gt;\n",
       "&lt;body&gt;\n",
       "    \n",
       "    \n",
       "            &lt;div class=&quot;folium-map&quot; id=&quot;map_b9432efa92d035cf3b9811bf1f1ac732&quot; &gt;&lt;/div&gt;\n",
       "        \n",
       "&lt;/body&gt;\n",
       "&lt;script&gt;\n",
       "    \n",
       "    \n",
       "            var map_b9432efa92d035cf3b9811bf1f1ac732 = L.map(\n",
       "                &quot;map_b9432efa92d035cf3b9811bf1f1ac732&quot;,\n",
       "                {\n",
       "                    center: [37.577821305052055, -120.60178974199997],\n",
       "                    crs: L.CRS.EPSG3857,\n",
       "                    zoom: 10,\n",
       "                    zoomControl: true,\n",
       "                    preferCanvas: false,\n",
       "                }\n",
       "            );\n",
       "            L.control.scale().addTo(map_b9432efa92d035cf3b9811bf1f1ac732);\n",
       "\n",
       "            \n",
       "\n",
       "        \n",
       "    \n",
       "            var tile_layer_60016c46123f5d35172a6c6eaa27de4f = L.tileLayer(\n",
       "                &quot;https://{s}.tile.openstreetmap.org/{z}/{x}/{y}.png&quot;,\n",
       "                {&quot;attribution&quot;: &quot;Data by \\u0026copy; \\u003ca target=\\&quot;_blank\\&quot; href=\\&quot;http://openstreetmap.org\\&quot;\\u003eOpenStreetMap\\u003c/a\\u003e, under \\u003ca target=\\&quot;_blank\\&quot; href=\\&quot;http://www.openstreetmap.org/copyright\\&quot;\\u003eODbL\\u003c/a\\u003e.&quot;, &quot;detectRetina&quot;: false, &quot;maxNativeZoom&quot;: 18, &quot;maxZoom&quot;: 18, &quot;minZoom&quot;: 0, &quot;noWrap&quot;: false, &quot;opacity&quot;: 1, &quot;subdomains&quot;: &quot;abc&quot;, &quot;tms&quot;: false}\n",
       "            ).addTo(map_b9432efa92d035cf3b9811bf1f1ac732);\n",
       "        \n",
       "    \n",
       "            map_b9432efa92d035cf3b9811bf1f1ac732.fitBounds(\n",
       "                [[34.94046345210405, -122.46853649899998], [40.21517915800006, -118.73504298499995]],\n",
       "                {}\n",
       "            );\n",
       "        \n",
       "    \n",
       "        function geo_json_fd25d61a1a190ef4e4ed8982e93036f8_styler(feature) {\n",
       "            switch(feature.id) {\n",
       "                default:\n",
       "                    return {&quot;fillOpacity&quot;: 0.5, &quot;weight&quot;: 2};\n",
       "            }\n",
       "        }\n",
       "        function geo_json_fd25d61a1a190ef4e4ed8982e93036f8_highlighter(feature) {\n",
       "            switch(feature.id) {\n",
       "                default:\n",
       "                    return {&quot;fillOpacity&quot;: 0.75};\n",
       "            }\n",
       "        }\n",
       "        function geo_json_fd25d61a1a190ef4e4ed8982e93036f8_pointToLayer(feature, latlng) {\n",
       "            var opts = {&quot;bubblingMouseEvents&quot;: true, &quot;color&quot;: &quot;#3388ff&quot;, &quot;dashArray&quot;: null, &quot;dashOffset&quot;: null, &quot;fill&quot;: true, &quot;fillColor&quot;: &quot;#3388ff&quot;, &quot;fillOpacity&quot;: 0.2, &quot;fillRule&quot;: &quot;evenodd&quot;, &quot;lineCap&quot;: &quot;round&quot;, &quot;lineJoin&quot;: &quot;round&quot;, &quot;opacity&quot;: 1.0, &quot;radius&quot;: 2, &quot;stroke&quot;: true, &quot;weight&quot;: 3};\n",
       "            \n",
       "            let style = geo_json_fd25d61a1a190ef4e4ed8982e93036f8_styler(feature)\n",
       "            Object.assign(opts, style)\n",
       "            \n",
       "            return new L.CircleMarker(latlng, opts)\n",
       "        }\n",
       "\n",
       "        function geo_json_fd25d61a1a190ef4e4ed8982e93036f8_onEachFeature(feature, layer) {\n",
       "            layer.on({\n",
       "                mouseout: function(e) {\n",
       "                    if(typeof e.target.setStyle === &quot;function&quot;){\n",
       "                        geo_json_fd25d61a1a190ef4e4ed8982e93036f8.resetStyle(e.target);\n",
       "                    }\n",
       "                },\n",
       "                mouseover: function(e) {\n",
       "                    if(typeof e.target.setStyle === &quot;function&quot;){\n",
       "                        const highlightStyle = geo_json_fd25d61a1a190ef4e4ed8982e93036f8_highlighter(e.target.feature)\n",
       "                        e.target.setStyle(highlightStyle);\n",
       "                    }\n",
       "                },\n",
       "            });\n",
       "        };\n",
       "        var geo_json_fd25d61a1a190ef4e4ed8982e93036f8 = L.geoJson(null, {\n",
       "                onEachFeature: geo_json_fd25d61a1a190ef4e4ed8982e93036f8_onEachFeature,\n",
       "            \n",
       "                style: geo_json_fd25d61a1a190ef4e4ed8982e93036f8_styler,\n",
       "                pointToLayer: geo_json_fd25d61a1a190ef4e4ed8982e93036f8_pointToLayer\n",
       "        });\n",
       "\n",
       "        function geo_json_fd25d61a1a190ef4e4ed8982e93036f8_add (data) {\n",
       "            geo_json_fd25d61a1a190ef4e4ed8982e93036f8\n",
       "                .addData(data)\n",
       "                .addTo(map_b9432efa92d035cf3b9811bf1f1ac732);\n",
       "        }\n",
       "            geo_json_fd25d61a1a190ef4e4ed8982e93036f8_add({&quot;bbox&quot;: [-122.46853649899998, 34.94046345210405, -118.73504298499995, 40.21517915800006], &quot;features&quot;: [{&quot;bbox&quot;: [-121.89376271999998, 35.969284056000056, -120.86863161699995, 37.03661519499999], &quot;geometry&quot;: {&quot;coordinates&quot;: [[[-120.87312677899996, 35.969284056000056], [-120.88368053099997, 35.96932622700004], [-120.90337135399994, 35.970734179000004], [-120.90351888099997, 35.97076749100005], [-120.90505601199999, 35.97118627600007], [-120.90522733399996, 35.97129097200011], [-121.0984659120393, 36.09681942372356], [-121.32086515826218, 36.28176899275039], [-121.78364010799999, 36.68715132300012], [-121.78393079299997, 36.68753384300002], [-121.79978213299994, 36.71298918400007], [-121.89376271999998, 36.97482931300005], [-121.86099091799998, 37.01680916600005], [-121.86095186799999, 37.01683502499999], [-121.81352116000001, 37.03475365700007], [-121.80473157099998, 37.03659212300004], [-121.80460081999998, 37.03661519499999], [-121.80452796599997, 37.03660292300004], [-121.76270001799998, 37.02362294800001], [-121.70370072099995, 36.97853124200008], [-121.63603395599996, 36.905419435000034], [-120.90453504672156, 36.08121660402081], [-120.90449697455853, 36.081171394894625], [-120.90446366209049, 36.081095251513055], [-120.87344731099996, 35.99990742100005], [-120.86883149099998, 35.98141266400003], [-120.86866017099999, 35.980384737000044], [-120.86863161699995, 35.980024249000074], [-120.86866706999997, 35.97585772300006], [-120.86878128499997, 35.97275252600007], [-120.86883125399999, 35.97257406700004], [-120.86899543599999, 35.97232422300009], [-120.87303635999997, 35.96930309100001], [-120.87312677899996, 35.969284056000056]]], &quot;type&quot;: &quot;Polygon&quot;}, &quot;id&quot;: &quot;0&quot;, &quot;properties&quot;: {&quot;area&quot;: 0.256222, &quot;id&quot;: 0, &quot;perimeter&quot;: 3.029087}, &quot;type&quot;: &quot;Feature&quot;}, {&quot;bbox&quot;: [-122.46853649899998, 34.94046345210405, -118.73504298499995, 40.21517915800006], &quot;geometry&quot;: {&quot;coordinates&quot;: [[[-118.87152538267368, 34.94046345210405], [-119.27752044299997, 35.01807275300004], [-119.32242533899996, 35.04726958400009], [-119.95677845199998, 35.621784428000076], [-120.08137282923171, 35.759880165846404], [-120.081421223228, 35.75993729177318], [-120.37807088242184, 36.129298415568876], [-121.81478475299997, 37.928916373000035], [-121.81485515399999, 37.92902243100006], [-121.98210172499994, 38.23789082000011], [-122.447779105, 39.142160854000096], [-122.44785130199995, 39.14230518500005], [-122.44791502699998, 39.14245190500002], [-122.44797014599999, 39.14260071400006], [-122.44801654699995, 39.14275130700002], [-122.44805413699999, 39.14290337800002], [-122.44808283599995, 39.14305661400006], [-122.44810258799997, 39.14321070100003], [-122.46846519499996, 39.37260441400007], [-122.46853649899998, 39.37621714600002], [-122.32478724599997, 39.95340533000009], [-122.32476651499996, 39.95348151100005], [-122.23378320699999, 40.19228015300003], [-122.23356429699999, 40.19249906300009], [-122.23262046999996, 40.19340483200007], [-122.23209161799997, 40.193853047000054], [-122.20644271399998, 40.210721744000075], [-122.20229435499999, 40.213296951000125], [-122.19964153399998, 40.21490418400005], [-122.19939171599997, 40.21499956900006], [-122.19782777999995, 40.21502974200005], [-122.18547711999997, 40.21517915800006], [-122.18271314299994, 40.21515958900006], [-122.13526194099995, 40.192287574000076], [-122.05444894799997, 40.10297677900007], [-119.01760164226339, 36.42158844837698], [-119.0054068234168, 36.40412954932056], [-118.92149264947346, 36.10917879655994], [-118.752996506, 35.3336383340001], [-118.73517703699999, 35.25070628300009], [-118.73504298499995, 35.24991881500003], [-118.73510433799999, 35.21659478100002], [-118.80246826599995, 35.031329857000074], [-118.82910054224767, 34.96258844926598], [-118.83139932178463, 34.95813897849839], [-118.83156493680586, 34.957919962253186], [-118.84675738628509, 34.94252058537365], [-118.85551521042869, 34.94082116054069], [-118.864391599125, 34.94058030109532], [-118.87152538267368, 34.94046345210405]]], &quot;type&quot;: &quot;Polygon&quot;}, &quot;id&quot;: &quot;1&quot;, &quot;properties&quot;: {&quot;area&quot;: 6.402203, &quot;id&quot;: 0, &quot;perimeter&quot;: 13.305924}, &quot;type&quot;: &quot;Feature&quot;}], &quot;type&quot;: &quot;FeatureCollection&quot;});\n",
       "\n",
       "        \n",
       "    \n",
       "    geo_json_fd25d61a1a190ef4e4ed8982e93036f8.bindTooltip(\n",
       "    function(layer){\n",
       "    let div = L.DomUtil.create(&#x27;div&#x27;);\n",
       "    \n",
       "    let handleObject = feature=&gt;typeof(feature)==&#x27;object&#x27; ? JSON.stringify(feature) : feature;\n",
       "    let fields = [&quot;id&quot;, &quot;area&quot;, &quot;perimeter&quot;];\n",
       "    let aliases = [&quot;id&quot;, &quot;area&quot;, &quot;perimeter&quot;];\n",
       "    let table = &#x27;&lt;table&gt;&#x27; +\n",
       "        String(\n",
       "        fields.map(\n",
       "        (v,i)=&gt;\n",
       "        `&lt;tr&gt;\n",
       "            &lt;th&gt;${aliases[i]}&lt;/th&gt;\n",
       "            \n",
       "            &lt;td&gt;${handleObject(layer.feature.properties[v])}&lt;/td&gt;\n",
       "        &lt;/tr&gt;`).join(&#x27;&#x27;))\n",
       "    +&#x27;&lt;/table&gt;&#x27;;\n",
       "    div.innerHTML=table;\n",
       "    \n",
       "    return div\n",
       "    }\n",
       "    ,{&quot;className&quot;: &quot;foliumtooltip&quot;, &quot;sticky&quot;: true});\n",
       "                     \n",
       "&lt;/script&gt;\n",
       "&lt;/html&gt;\" style=\"position:absolute;width:100%;height:100%;left:0;top:0;border:none !important;\" allowfullscreen webkitallowfullscreen mozallowfullscreen></iframe></div></div>"
      ],
      "text/plain": [
       "<folium.folium.Map at 0x7fa112033610>"
      ]
     },
     "execution_count": 4,
     "metadata": {},
     "output_type": "execute_result"
    }
   ],
   "source": [
    "# preview mask on a map\n",
    "mask_file.explore()"
   ]
  },
  {
   "cell_type": "code",
   "execution_count": 5,
   "id": "77590018",
   "metadata": {},
   "outputs": [
    {
     "name": "stdout",
     "output_type": "stream",
     "text": [
      "    255702 ha\n",
      "   6382103 ha\n"
     ]
    }
   ],
   "source": [
    "# show the area of the study areas, in hectars\n",
    "area = mask_file[\"geometry\"].area/10**4\n",
    "\n",
    "for x in area:\n",
    "    print(\"{:10.0f} ha\".format(x))"
   ]
  },
  {
   "cell_type": "markdown",
   "id": "28da05a8",
   "metadata": {},
   "source": [
    "The agricultural valleys Salinas and California have 255702 and 6382103 ha, respectively.\n",
    "\n",
    "Let's clip the crop classified raster image for the two areas."
   ]
  },
  {
   "cell_type": "code",
   "execution_count": 6,
   "id": "5eb14b3b",
   "metadata": {},
   "outputs": [],
   "source": [
    "# read raster file, clip and save clipped output\n",
    "with rasterio.open(raster_file) as src:\n",
    "\n",
    "    out_image, out_transform = rasterio.mask.mask(src, mask_file[['geometry']].values.flatten(), crop=True)\n",
    "    out_meta = src.meta\n",
    "\n",
    "# set output parameters\n",
    "out_meta.update({\"driver\": \"GTiff\",\n",
    "                 \"height\": out_image.shape[1],\n",
    "                 \"width\": out_image.shape[2],\n",
    "                 \"transform\": out_transform,\n",
    "                 \"nodata\": 0})\n",
    "\n",
    "# write clipped raster\n",
    "with rasterio.open(out_clip, \"w\", **out_meta) as dest:\n",
    "    dest.write(out_image) "
   ]
  },
  {
   "cell_type": "markdown",
   "id": "1da524de",
   "metadata": {},
   "source": [
    "Check the mask operation result:"
   ]
  },
  {
   "cell_type": "code",
   "execution_count": 7,
   "id": "aef4f138",
   "metadata": {},
   "outputs": [
    {
     "data": {
      "text/plain": [
       "array([[ True,  True,  True, ...,  True,  True,  True],\n",
       "       [ True,  True,  True, ...,  True,  True,  True],\n",
       "       [ True,  True,  True, ...,  True,  True,  True],\n",
       "       ...,\n",
       "       [ True,  True,  True, ...,  True,  True,  True],\n",
       "       [ True,  True,  True, ...,  True,  True,  True],\n",
       "       [ True,  True,  True, ...,  True,  True,  True]])"
      ]
     },
     "execution_count": 7,
     "metadata": {},
     "output_type": "execute_result"
    }
   ],
   "source": [
    "src = rasterio.open(out_clip)\n",
    "src_mask = src.read(1, masked=True)\n",
    "src_mask.mask"
   ]
  },
  {
   "cell_type": "markdown",
   "id": "dc1b05b6",
   "metadata": {},
   "source": [
    "Show the clipped raster:"
   ]
  },
  {
   "cell_type": "code",
   "execution_count": 8,
   "id": "83106958",
   "metadata": {},
   "outputs": [
    {
     "data": {
      "image/png": "[encoded data removed]",
      "text/plain": [
       "<Figure size 640x480 with 1 Axes>"
      ]
     },
     "metadata": {},
     "output_type": "display_data"
    },
    {
     "data": {
      "text/plain": [
       "<Axes: >"
      ]
     },
     "execution_count": 8,
     "metadata": {},
     "output_type": "execute_result"
    }
   ],
   "source": [
    "# map clipped raster of the areas\n",
    "from rasterio.plot import show\n",
    "show(src_mask, cmap = 'viridis')"
   ]
  },
  {
   "cell_type": "markdown",
   "id": "5598a7f0",
   "metadata": {},
   "source": [
    "Each pixel in the raster image has a value corresponding to a classified crop or land use. The key for the legend is available at https://www.nass.usda.gov/Research_and_Science/Cropland/docs/CDL_codes_names_colors.xlsx. We will count the number of pixels for each of the LULC codes."
   ]
  },
  {
   "cell_type": "code",
   "execution_count": 9,
   "id": "5303c483",
   "metadata": {},
   "outputs": [],
   "source": [
    "# count number of cells for each pixel value\n",
    "\n",
    "count = np.unique(src_mask, return_counts=True)\n",
    "df = pd.DataFrame(count).transpose()\n",
    "\n",
    "df.rename(columns={0: 'Codes', 1: 'count'}, inplace=True)\n",
    "df = df[df['Codes'] != '--']"
   ]
  },
  {
   "cell_type": "markdown",
   "id": "9b110074",
   "metadata": {},
   "source": [
    "Preview the table containing the code value and the corresponding number of pixels for the area of interest."
   ]
  },
  {
   "cell_type": "code",
   "execution_count": 10,
   "id": "b1dac782",
   "metadata": {},
   "outputs": [
    {
     "data": {
      "text/html": [
       "<div>\n",
       "<style scoped>\n",
       "    .dataframe tbody tr th:only-of-type {\n",
       "        vertical-align: middle;\n",
       "    }\n",
       "\n",
       "    .dataframe tbody tr th {\n",
       "        vertical-align: top;\n",
       "    }\n",
       "\n",
       "    .dataframe thead th {\n",
       "        text-align: right;\n",
       "    }\n",
       "</style>\n",
       "<table border=\"1\" class=\"dataframe\">\n",
       "  <thead>\n",
       "    <tr style=\"text-align: right;\">\n",
       "      <th></th>\n",
       "      <th>Codes</th>\n",
       "      <th>count</th>\n",
       "    </tr>\n",
       "  </thead>\n",
       "  <tbody>\n",
       "    <tr>\n",
       "      <th>0</th>\n",
       "      <td>1</td>\n",
       "      <td>661126</td>\n",
       "    </tr>\n",
       "    <tr>\n",
       "      <th>1</th>\n",
       "      <td>2</td>\n",
       "      <td>672937</td>\n",
       "    </tr>\n",
       "    <tr>\n",
       "      <th>2</th>\n",
       "      <td>3</td>\n",
       "      <td>1221853</td>\n",
       "    </tr>\n",
       "    <tr>\n",
       "      <th>3</th>\n",
       "      <td>4</td>\n",
       "      <td>29571</td>\n",
       "    </tr>\n",
       "    <tr>\n",
       "      <th>4</th>\n",
       "      <td>6</td>\n",
       "      <td>175351</td>\n",
       "    </tr>\n",
       "    <tr>\n",
       "      <th>5</th>\n",
       "      <td>12</td>\n",
       "      <td>16081</td>\n",
       "    </tr>\n",
       "    <tr>\n",
       "      <th>6</th>\n",
       "      <td>13</td>\n",
       "      <td>349</td>\n",
       "    </tr>\n",
       "    <tr>\n",
       "      <th>7</th>\n",
       "      <td>14</td>\n",
       "      <td>3</td>\n",
       "    </tr>\n",
       "    <tr>\n",
       "      <th>8</th>\n",
       "      <td>21</td>\n",
       "      <td>193581</td>\n",
       "    </tr>\n",
       "    <tr>\n",
       "      <th>9</th>\n",
       "      <td>22</td>\n",
       "      <td>12615</td>\n",
       "    </tr>\n",
       "  </tbody>\n",
       "</table>\n",
       "</div>"
      ],
      "text/plain": [
       "  Codes    count\n",
       "0     1   661126\n",
       "1     2   672937\n",
       "2     3  1221853\n",
       "3     4    29571\n",
       "4     6   175351\n",
       "5    12    16081\n",
       "6    13      349\n",
       "7    14        3\n",
       "8    21   193581\n",
       "9    22    12615"
      ]
     },
     "execution_count": 10,
     "metadata": {},
     "output_type": "execute_result"
    }
   ],
   "source": [
    "# Preview the table with codes and counts\n",
    "df.head(10)"
   ]
  },
  {
   "cell_type": "code",
   "execution_count": 11,
   "id": "b57a21e0",
   "metadata": {},
   "outputs": [],
   "source": [
    "# read codes and legend of pixel values. Merge with pixel counts by codes and calculate area in ha\n",
    "# the codes table identifies if it is or not a crop. The image has a resolution of 30x30 metres\n",
    "\n",
    "codes = pd.read_csv('../external_data/CroplandCROS/CDL_code_names_colors.csv')\n",
    "df = pd.merge(df, codes[['Codes', 'Class_Names', 'Scientific_name', 'EPPO_code', 'IsCrop']], \\\n",
    "              left_on='Codes', right_on='Codes')\n",
    "df['areaHa'] = df['count']*900/10**4"
   ]
  },
  {
   "cell_type": "code",
   "execution_count": 12,
   "id": "29113996",
   "metadata": {},
   "outputs": [
    {
     "data": {
      "text/plain": [
       "6632075.07"
      ]
     },
     "execution_count": 12,
     "metadata": {},
     "output_type": "execute_result"
    }
   ],
   "source": [
    "# total area, calculation based in the number of pixels.\n",
    "df['areaHa'].sum()"
   ]
  },
  {
   "cell_type": "markdown",
   "id": "28d1d385",
   "metadata": {},
   "source": [
    "The total area of the area of interest is more than 6.6 million hectares. This includes crop and non-crop areas."
   ]
  },
  {
   "cell_type": "code",
   "execution_count": 13,
   "id": "5bcb40b0",
   "metadata": {},
   "outputs": [
    {
     "data": {
      "text/plain": [
       "63"
      ]
     },
     "execution_count": 13,
     "metadata": {},
     "output_type": "execute_result"
    }
   ],
   "source": [
    "# count the number of codes that correspond to crops\n",
    "len(df[(df['IsCrop']==1)])"
   ]
  },
  {
   "cell_type": "code",
   "execution_count": 14,
   "id": "8f52d83a",
   "metadata": {},
   "outputs": [
    {
     "data": {
      "text/plain": [
       "2724242.94"
      ]
     },
     "execution_count": 14,
     "metadata": {},
     "output_type": "execute_result"
    }
   ],
   "source": [
    "# sum the area tha correspond to crops\n",
    "(df['areaHa'][(df['IsCrop']==1)]).sum()"
   ]
  },
  {
   "cell_type": "markdown",
   "id": "4946fcd4",
   "metadata": {},
   "source": [
    "Based on the classification of the CroplandCROS, there are 63 crops in the area of interest. That covers a total area of more than 2.7 million hectares."
   ]
  },
  {
   "cell_type": "code",
   "execution_count": 15,
   "id": "976d994e",
   "metadata": {},
   "outputs": [],
   "source": [
    "#save dataframe with crop data for later use\n",
    "df.to_csv('../process_data/crop_data.csv')"
   ]
  },
  {
   "cell_type": "markdown",
   "id": "7fde1b4b",
   "metadata": {},
   "source": [
    "The table with pixel classes was completed with additional data to be used latter in the workflow:<br>\n",
    "- scientific name of the crop, for classes that correspond to crops\n",
    "- code of the crop in the EPPO database\n",
    "- when more than a crop exists for a pixel, the code of the crop growing in the nesting period of birds (April to June)\n",
    "- the following classifiers\n",
    "    - IsCrop: boolean to indicate if the class is a crop identified in the EPPO database\n",
    "    - IsCropOther: boolean to indicate if the class is a crop identified in the EPPO database , or other crops not possible to identify\n",
    "    - IsWoodland: boolean to indicate if the class correspond to permanent land cover (permanent crops, shrubs or trees)\n",
    "    - IsFeedingArea: booleand to indicate if the class can be used by birds as feeding areas. Includes crops and woodlands\n",
    "    - IsTempCrop: boolean to indicate if the class is a temporary crop\n",
    "    - IsPermCrop: boolean to indicate if the class is a permanent crop"
   ]
  },
  {
   "cell_type": "code",
   "execution_count": 16,
   "id": "b1ecc7a0",
   "metadata": {},
   "outputs": [
    {
     "data": {
      "text/html": [
       "<div>\n",
       "<style scoped>\n",
       "    .dataframe tbody tr th:only-of-type {\n",
       "        vertical-align: middle;\n",
       "    }\n",
       "\n",
       "    .dataframe tbody tr th {\n",
       "        vertical-align: top;\n",
       "    }\n",
       "\n",
       "    .dataframe thead th {\n",
       "        text-align: right;\n",
       "    }\n",
       "</style>\n",
       "<table border=\"1\" class=\"dataframe\">\n",
       "  <thead>\n",
       "    <tr style=\"text-align: right;\">\n",
       "      <th></th>\n",
       "      <th>Codes</th>\n",
       "      <th>count</th>\n",
       "      <th>Class_Names</th>\n",
       "      <th>Scientific_name</th>\n",
       "      <th>EPPO_code</th>\n",
       "      <th>IsCrop</th>\n",
       "      <th>areaHa</th>\n",
       "    </tr>\n",
       "  </thead>\n",
       "  <tbody>\n",
       "    <tr>\n",
       "      <th>0</th>\n",
       "      <td>1</td>\n",
       "      <td>661126</td>\n",
       "      <td>Corn</td>\n",
       "      <td>Zea mays</td>\n",
       "      <td>ZEAMX</td>\n",
       "      <td>1</td>\n",
       "      <td>59501.34</td>\n",
       "    </tr>\n",
       "    <tr>\n",
       "      <th>1</th>\n",
       "      <td>2</td>\n",
       "      <td>672937</td>\n",
       "      <td>Cotton</td>\n",
       "      <td>Gossypium spp.</td>\n",
       "      <td>1GOSG</td>\n",
       "      <td>1</td>\n",
       "      <td>60564.33</td>\n",
       "    </tr>\n",
       "    <tr>\n",
       "      <th>2</th>\n",
       "      <td>3</td>\n",
       "      <td>1221853</td>\n",
       "      <td>Rice</td>\n",
       "      <td>Oryza sativa</td>\n",
       "      <td>ORYSA</td>\n",
       "      <td>1</td>\n",
       "      <td>109966.77</td>\n",
       "    </tr>\n",
       "    <tr>\n",
       "      <th>3</th>\n",
       "      <td>4</td>\n",
       "      <td>29571</td>\n",
       "      <td>Sorghum</td>\n",
       "      <td>Sorghum bicolor</td>\n",
       "      <td>SORVU</td>\n",
       "      <td>1</td>\n",
       "      <td>2661.39</td>\n",
       "    </tr>\n",
       "    <tr>\n",
       "      <th>4</th>\n",
       "      <td>6</td>\n",
       "      <td>175351</td>\n",
       "      <td>Sunflower</td>\n",
       "      <td>Helianthus annuus</td>\n",
       "      <td>HELAN</td>\n",
       "      <td>1</td>\n",
       "      <td>15781.59</td>\n",
       "    </tr>\n",
       "    <tr>\n",
       "      <th>...</th>\n",
       "      <td>...</td>\n",
       "      <td>...</td>\n",
       "      <td>...</td>\n",
       "      <td>...</td>\n",
       "      <td>...</td>\n",
       "      <td>...</td>\n",
       "      <td>...</td>\n",
       "    </tr>\n",
       "    <tr>\n",
       "      <th>82</th>\n",
       "      <td>229</td>\n",
       "      <td>9646</td>\n",
       "      <td>Pumpkins</td>\n",
       "      <td>Cucurbita pepo</td>\n",
       "      <td>CUUPE</td>\n",
       "      <td>1</td>\n",
       "      <td>868.14</td>\n",
       "    </tr>\n",
       "    <tr>\n",
       "      <th>83</th>\n",
       "      <td>236</td>\n",
       "      <td>39438</td>\n",
       "      <td>Dbl Crop WinWht/Sorghum</td>\n",
       "      <td>NaN</td>\n",
       "      <td>SORVU,TRZAX</td>\n",
       "      <td>1</td>\n",
       "      <td>3549.42</td>\n",
       "    </tr>\n",
       "    <tr>\n",
       "      <th>84</th>\n",
       "      <td>237</td>\n",
       "      <td>5392</td>\n",
       "      <td>Dbl Crop Barley/Corn</td>\n",
       "      <td>NaN</td>\n",
       "      <td>TRZAX,ZEAMX</td>\n",
       "      <td>1</td>\n",
       "      <td>485.28</td>\n",
       "    </tr>\n",
       "    <tr>\n",
       "      <th>85</th>\n",
       "      <td>238</td>\n",
       "      <td>2633</td>\n",
       "      <td>Dbl Crop WinWht/Cotton</td>\n",
       "      <td>NaN</td>\n",
       "      <td>TRZAX,1GOSG</td>\n",
       "      <td>1</td>\n",
       "      <td>236.97</td>\n",
       "    </tr>\n",
       "    <tr>\n",
       "      <th>86</th>\n",
       "      <td>242</td>\n",
       "      <td>2119</td>\n",
       "      <td>Blueberries</td>\n",
       "      <td>Vaccinium spp.</td>\n",
       "      <td>VACSS</td>\n",
       "      <td>1</td>\n",
       "      <td>190.71</td>\n",
       "    </tr>\n",
       "  </tbody>\n",
       "</table>\n",
       "<p>87 rows × 7 columns</p>\n",
       "</div>"
      ],
      "text/plain": [
       "   Codes    count              Class_Names    Scientific_name    EPPO_code  \\\n",
       "0      1   661126                     Corn           Zea mays        ZEAMX   \n",
       "1      2   672937                   Cotton     Gossypium spp.        1GOSG   \n",
       "2      3  1221853                     Rice       Oryza sativa        ORYSA   \n",
       "3      4    29571                  Sorghum    Sorghum bicolor        SORVU   \n",
       "4      6   175351                Sunflower  Helianthus annuus        HELAN   \n",
       "..   ...      ...                      ...                ...          ...   \n",
       "82   229     9646                 Pumpkins     Cucurbita pepo        CUUPE   \n",
       "83   236    39438  Dbl Crop WinWht/Sorghum                NaN  SORVU,TRZAX   \n",
       "84   237     5392     Dbl Crop Barley/Corn                NaN  TRZAX,ZEAMX   \n",
       "85   238     2633   Dbl Crop WinWht/Cotton                NaN  TRZAX,1GOSG   \n",
       "86   242     2119              Blueberries     Vaccinium spp.        VACSS   \n",
       "\n",
       "    IsCrop     areaHa  \n",
       "0        1   59501.34  \n",
       "1        1   60564.33  \n",
       "2        1  109966.77  \n",
       "3        1    2661.39  \n",
       "4        1   15781.59  \n",
       "..     ...        ...  \n",
       "82       1     868.14  \n",
       "83       1    3549.42  \n",
       "84       1     485.28  \n",
       "85       1     236.97  \n",
       "86       1     190.71  \n",
       "\n",
       "[87 rows x 7 columns]"
      ]
     },
     "execution_count": 16,
     "metadata": {},
     "output_type": "execute_result"
    }
   ],
   "source": [
    "df.head(20).sort_values('Class_Names', ascending=True)\n",
    "df"
   ]
  },
  {
   "cell_type": "markdown",
   "id": "30463114",
   "metadata": {},
   "source": [
    "Create a graph with the crops that have the largest areas in the area of interest. Only crops having more than 50000 pixels in the area (4500 ha) are represented."
   ]
  },
  {
   "cell_type": "code",
   "execution_count": 17,
   "id": "e966db79",
   "metadata": {},
   "outputs": [
    {
     "data": {
      "image/png": "[encoded data removed]",
      "text/plain": [
       "<Figure size 640x480 with 1 Axes>"
      ]
     },
     "metadata": {},
     "output_type": "display_data"
    }
   ],
   "source": [
    "# plot area for each crop, for the largest crops (more than 50000 pixels)\n",
    "ax = df[(df['IsCrop']==1) & (df['count'] > 50000)].sort_values('count').plot.barh(x = 'Class_Names', y = 'areaHa')"
   ]
  },
  {
   "cell_type": "code",
   "execution_count": null,
   "id": "5779c28b",
   "metadata": {},
   "outputs": [],
   "source": []
  }
 ],
 "metadata": {
  "kernelspec": {
   "display_name": "Python 3 (ipykernel)",
   "language": "python",
   "name": "python3"
  },
  "language_info": {
   "codemirror_mode": {
    "name": "ipython",
    "version": 3
   },
   "file_extension": ".py",
   "mimetype": "text/x-python",
   "name": "python",
   "nbconvert_exporter": "python",
   "pygments_lexer": "ipython3",
   "version": "3.11.4"
  },
  "toc-autonumbering": true,
  "toc-showcode": false,
  "toc-showmarkdowntxt": false,
  "vscode": {
   "interpreter": {
    "hash": "e7370f93d1d0cde622a1f8e1c04877d8463912d04d973331ad4851f04de6915a"
   }
  }
 },
 "nbformat": 4,
 "nbformat_minor": 5
}
