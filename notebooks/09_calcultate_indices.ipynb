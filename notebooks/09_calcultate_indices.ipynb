{
 "cells": [
  {
   "cell_type": "markdown",
   "id": "e633939b",
   "metadata": {},
   "source": [
    "# 09 - Calculate biodiversity indices\n",
    "\n",
    "The goal of this notebook is to calculate several biodiversity indices for each point.\n",
    "\n",
    "The following will be calculated:\n",
    "\n",
    "- Shannon-wienner\n",
    "- richness\n",
    "- abundance\n",
    "- Simpson\n",
    "- alpha diversity\n",
    "- beta diversity\n",
    "\n",
    "The index values will be added to the occurrence table.\n",
    "\n",
    "#### Inputs\n",
    "\n",
    "- table of bird occurrences corrected, as createt in step 08: `occ_consumption_cor.csv`\n",
    "\n",
    "#### Outputs\n",
    "\n",
    "- table with new columns containing shannon and richness values: `biodiversity_data.csv`\n",
    "\n"
   ]
  },
  {
   "cell_type": "code",
   "execution_count": 1,
   "id": "6200ec06",
   "metadata": {
    "tags": []
   },
   "outputs": [],
   "source": [
    "# import modules\n",
    "import pandas as pd\n",
    "import numpy as np\n",
    "from scipy.stats import entropy\n",
    "import matplotlib.pyplot as plt\n",
    "%matplotlib inline"
   ]
  },
  {
   "cell_type": "markdown",
   "id": "e7476993",
   "metadata": {},
   "source": [
    "## Shannon-wienner, Species Richness and Species Abundance\n",
    "\n",
    "The following functions will calculate the following indices:\n",
    "- Shannon-Wienner (also called entropy index)\n",
    "- species richness\n",
    "- species abundance"
   ]
  },
  {
   "cell_type": "code",
   "execution_count": 2,
   "id": "6084952e",
   "metadata": {
    "tags": []
   },
   "outputs": [],
   "source": [
    "# function to canculate indices. Generated with ChatGPT\n",
    "\n",
    "def calculate_shannon_diversity(data):\n",
    "    \"\"\"\n",
    "    Calculates Shannon diversity index from biodiversity survey data.\n",
    "\n",
    "    Parameters:\n",
    "        data (numpy.ndarray): A 2D array where rows represent samples and columns represent species.\n",
    "\n",
    "    Returns:\n",
    "        float: Shannon diversity index.\n",
    "    \"\"\"\n",
    "    proportions = data / np.sum(data, axis=1, keepdims=True)\n",
    "    return np.sum(-proportions * np.log(proportions + np.finfo(float).eps), axis=1)\n",
    "\n",
    "\n",
    "def calculate_species_richness(data):\n",
    "    \"\"\"\n",
    "    Calculates species richness from biodiversity survey data.\n",
    "\n",
    "    Parameters:\n",
    "        data (numpy.ndarray): A 2D array where rows represent samples and columns represent species.\n",
    "\n",
    "    Returns:\n",
    "        numpy.ndarray: Array containing species richness for each sample.\n",
    "    \"\"\"\n",
    "    nonzero_counts = np.count_nonzero(data, axis=1)\n",
    "    return nonzero_counts\n",
    "\n",
    "\n",
    "def calculate_species_abundance(data):\n",
    "    \"\"\"\n",
    "    Calculates species abundance from biodiversity survey data.\n",
    "\n",
    "    Parameters:\n",
    "        data (numpy.ndarray): A 2D array where rows represent samples and columns represent species.\n",
    "\n",
    "    Returns:\n",
    "        numpy.ndarray: Array containing species abundance for each species.\n",
    "    \"\"\"\n",
    "    total_counts = np.sum(data, axis=0)\n",
    "    return total_counts"
   ]
  },
  {
   "cell_type": "markdown",
   "id": "762c9db0",
   "metadata": {},
   "source": [
    "Open bird data at occurrence level. This table is corrected for the effect of species of large groups."
   ]
  },
  {
   "cell_type": "code",
   "execution_count": 3,
   "id": "57c48b5c",
   "metadata": {
    "tags": []
   },
   "outputs": [],
   "source": [
    "# import data\n",
    "bird_data = pd.read_csv('../process_data/occ_consumption_cor.csv', low_memory = False)\n"
   ]
  },
  {
   "cell_type": "code",
   "execution_count": 4,
   "id": "5885e551",
   "metadata": {
    "tags": []
   },
   "outputs": [],
   "source": [
    "# create table of biodiversity data as a 2D numpy array where rows represent samples and columns represent species.\n",
    "\n",
    "bird_data1 = pd.pivot_table(bird_data, values = 'OBSERVATION COUNT', index = ['SAMPLING EVENT IDENTIFIER'], \n",
    "                                   columns = ['SCIENTIFIC NAME_x'])\n",
    "\n"
   ]
  },
  {
   "cell_type": "code",
   "execution_count": 5,
   "id": "4b41f8bf",
   "metadata": {
    "tags": []
   },
   "outputs": [],
   "source": [
    "bird_data1.fillna(0,inplace=True)"
   ]
  },
  {
   "cell_type": "code",
   "execution_count": 6,
   "id": "a653644e",
   "metadata": {
    "tags": []
   },
   "outputs": [
    {
     "data": {
      "text/plain": [
       "(18783, 63)"
      ]
     },
     "execution_count": 6,
     "metadata": {},
     "output_type": "execute_result"
    }
   ],
   "source": [
    "bird_data1.shape"
   ]
  },
  {
   "cell_type": "code",
   "execution_count": 7,
   "id": "216f3a1d",
   "metadata": {
    "tags": []
   },
   "outputs": [],
   "source": [
    "biodiversity_data = bird_data1.values"
   ]
  },
  {
   "cell_type": "code",
   "execution_count": 8,
   "id": "5ef3096e",
   "metadata": {
    "tags": []
   },
   "outputs": [
    {
     "data": {
      "text/plain": [
       "array([[0., 0., 0., ..., 0., 0., 0.],\n",
       "       [0., 0., 0., ..., 0., 0., 0.],\n",
       "       [0., 0., 0., ..., 0., 0., 0.],\n",
       "       ...,\n",
       "       [0., 0., 0., ..., 0., 0., 0.],\n",
       "       [0., 0., 0., ..., 0., 0., 0.],\n",
       "       [0., 0., 0., ..., 0., 0., 0.]])"
      ]
     },
     "execution_count": 8,
     "metadata": {},
     "output_type": "execute_result"
    }
   ],
   "source": [
    "biodiversity_data"
   ]
  },
  {
   "cell_type": "code",
   "execution_count": 9,
   "id": "30e83459",
   "metadata": {
    "tags": []
   },
   "outputs": [
    {
     "name": "stdout",
     "output_type": "stream",
     "text": [
      "Shannon Diversity: [ 1.20479331e+00  1.08889998e+00 -2.22044605e-16 ...  9.50270539e-01\n",
      "  1.07899221e+00 -2.22044605e-16]\n",
      "Species Richness: [4 4 1 ... 3 3 1]\n",
      "Species Abundance: [1.99200e+03 1.47314e+05 1.29000e+02 1.26810e+04 6.08100e+03 2.10000e+03\n",
      " 1.43500e+03 4.45300e+03 2.70000e+02 1.02400e+03 6.26000e+02 9.70000e+01\n",
      " 4.45000e+02 2.78000e+02 1.00230e+04 6.08800e+03 4.29000e+02 1.20000e+01\n",
      " 3.15100e+03 4.94000e+02 4.00000e+01 1.76900e+03 1.99390e+04 8.38000e+02\n",
      " 2.11000e+02 1.06000e+02 1.68000e+02 6.31500e+03 3.36200e+03 1.60400e+03\n",
      " 5.30000e+02 1.04450e+03 5.17000e+02 2.22000e+02 4.85700e+03 8.13000e+03\n",
      " 6.49600e+03 2.89700e+03 7.55650e+04 6.20000e+01 2.92000e+03 4.30700e+03\n",
      " 4.06800e+03 1.00000e+00 9.91000e+02 1.80000e+01 5.90000e+01 9.77050e+03\n",
      " 2.24500e+03 9.97000e+02 6.04300e+03 9.90000e+01 1.00200e+03 2.74600e+03\n",
      " 1.87000e+02 2.63000e+03 6.38200e+03 1.18550e+04 1.69200e+03 2.73900e+03\n",
      " 3.08700e+03 6.78000e+03 5.13000e+02]\n"
     ]
    }
   ],
   "source": [
    "shannon_diversity = calculate_shannon_diversity(biodiversity_data)\n",
    "species_richness = calculate_species_richness(biodiversity_data)\n",
    "species_abundance = calculate_species_abundance(biodiversity_data)\n",
    "\n",
    "print(\"Shannon Diversity:\", shannon_diversity)\n",
    "print(\"Species Richness:\", species_richness)\n",
    "print(\"Species Abundance:\", species_abundance)"
   ]
  },
  {
   "cell_type": "code",
   "execution_count": 10,
   "id": "6ba62ea2",
   "metadata": {
    "tags": []
   },
   "outputs": [
    {
     "data": {
      "text/plain": [
       "(18783,)"
      ]
     },
     "execution_count": 10,
     "metadata": {},
     "output_type": "execute_result"
    }
   ],
   "source": [
    "shannon_diversity.shape"
   ]
  },
  {
   "cell_type": "code",
   "execution_count": 11,
   "id": "7565808d",
   "metadata": {
    "tags": []
   },
   "outputs": [],
   "source": [
    "bird_data1['shannon'] = shannon_diversity.tolist()"
   ]
  },
  {
   "cell_type": "code",
   "execution_count": 12,
   "id": "ab9f079d",
   "metadata": {
    "tags": []
   },
   "outputs": [],
   "source": [
    "bird_data1['richness'] = species_richness.tolist()"
   ]
  },
  {
   "cell_type": "code",
   "execution_count": 13,
   "id": "94099f3a",
   "metadata": {
    "tags": []
   },
   "outputs": [],
   "source": [
    "bird_data1.to_csv('../process_data/biodiversity_data.csv')"
   ]
  },
  {
   "cell_type": "code",
   "execution_count": 14,
   "id": "ec149ca1",
   "metadata": {
    "tags": []
   },
   "outputs": [
    {
     "data": {
      "text/plain": [
       "<matplotlib.collections.PathCollection at 0x7f745fb32690>"
      ]
     },
     "execution_count": 14,
     "metadata": {},
     "output_type": "execute_result"
    },
    {
     "data": {
      "image/png": "[encoded data removed]",
      "text/plain": [
       "<Figure size 640x480 with 1 Axes>"
      ]
     },
     "metadata": {},
     "output_type": "display_data"
    }
   ],
   "source": [
    "plt.scatter(bird_data1['shannon'], bird_data1['richness'])"
   ]
  },
  {
   "cell_type": "markdown",
   "id": "bcef0ee6",
   "metadata": {},
   "source": [
    "## Alpha-diversity, Beta-diversity\n",
    "\n",
    "The following calculates alpha and beta-diversity. However, these values are not further explored in the workflow."
   ]
  },
  {
   "cell_type": "code",
   "execution_count": 15,
   "id": "bccf147a",
   "metadata": {
    "tags": []
   },
   "outputs": [],
   "source": [
    "from scipy.spatial.distance import pdist, squareform\n",
    "\n",
    "\n",
    "def calculate_alpha_diversity(data):\n",
    "    \"\"\"\n",
    "    Calculates alpha diversity from biodiversity survey data.\n",
    "\n",
    "    Parameters:\n",
    "        data (numpy.ndarray): A 2D array where rows represent samples and columns represent species.\n",
    "\n",
    "    Returns:\n",
    "        float: Alpha diversity value.\n",
    "    \"\"\"\n",
    "    num_species = data.shape[1]\n",
    "    species_counts = np.sum(data, axis=1)\n",
    "    proportions = species_counts / num_species\n",
    "    return np.exp(np.mean(np.log(proportions)))\n",
    "\n",
    "\n",
    "def calculate_beta_diversity(data):\n",
    "    \"\"\"\n",
    "    Calculates beta diversity from biodiversity survey data.\n",
    "\n",
    "    Parameters:\n",
    "        data (numpy.ndarray): A 2D array where rows represent samples and columns represent species.\n",
    "\n",
    "    Returns:\n",
    "        float: Beta diversity value.\n",
    "    \"\"\"\n",
    "    pairwise_distances = pdist(data, metric='euclidean')\n",
    "    return np.mean(pairwise_distances)\n"
   ]
  },
  {
   "cell_type": "code",
   "execution_count": 16,
   "id": "02dd3842",
   "metadata": {
    "tags": []
   },
   "outputs": [
    {
     "name": "stdout",
     "output_type": "stream",
     "text": [
      "Alpha Diversity: 0.11395198666054021\n",
      "Beta Diversity: 30.119736084575518\n"
     ]
    }
   ],
   "source": [
    "# Example usage:\n",
    "# Assuming your data is stored in a 2D numpy array called 'biodiversity_data'\n",
    "alpha_diversity = calculate_alpha_diversity(biodiversity_data)\n",
    "beta_diversity = calculate_beta_diversity(biodiversity_data)\n",
    "\n",
    "print(\"Alpha Diversity:\", alpha_diversity)\n",
    "print(\"Beta Diversity:\", beta_diversity)\n"
   ]
  },
  {
   "cell_type": "code",
   "execution_count": 17,
   "id": "1c3cd78e",
   "metadata": {
    "tags": []
   },
   "outputs": [
    {
     "data": {
      "text/plain": [
       "array([13., 10., 20., ..., 10.,  7.,  2.])"
      ]
     },
     "execution_count": 17,
     "metadata": {},
     "output_type": "execute_result"
    }
   ],
   "source": [
    "np.sum(biodiversity_data, axis=1)"
   ]
  },
  {
   "cell_type": "code",
   "execution_count": null,
   "id": "4fd0864b",
   "metadata": {},
   "outputs": [],
   "source": []
  }
 ],
 "metadata": {
  "kernelspec": {
   "display_name": "Python 3 (ipykernel)",
   "language": "python",
   "name": "python3"
  },
  "language_info": {
   "codemirror_mode": {
    "name": "ipython",
    "version": 3
   },
   "file_extension": ".py",
   "mimetype": "text/x-python",
   "name": "python",
   "nbconvert_exporter": "python",
   "pygments_lexer": "ipython3",
   "version": "3.11.4"
  }
 },
 "nbformat": 4,
 "nbformat_minor": 5
}
